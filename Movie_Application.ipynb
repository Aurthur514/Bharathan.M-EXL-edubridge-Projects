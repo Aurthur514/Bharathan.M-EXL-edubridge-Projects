{
  "nbformat": 4,
  "nbformat_minor": 0,
  "metadata": {
    "colab": {
      "provenance": [],
      "authorship_tag": "ABX9TyNsbUv80dPVDVONPWShO1II",
      "include_colab_link": true
    },
    "kernelspec": {
      "name": "python3",
      "display_name": "Python 3"
    },
    "language_info": {
      "name": "python"
    }
  },
  "cells": [
    {
      "cell_type": "markdown",
      "metadata": {
        "id": "view-in-github",
        "colab_type": "text"
      },
      "source": [
        "<a href=\"https://colab.research.google.com/github/Aurthur514/Aurthur514/blob/main/Movie_Application.ipynb\" target=\"_parent\"><img src=\"https://colab.research.google.com/assets/colab-badge.svg\" alt=\"Open In Colab\"/></a>"
      ]
    },
    {
      "cell_type": "code",
      "execution_count": 1,
      "metadata": {
        "colab": {
          "base_uri": "https://localhost:8080/"
        },
        "id": "v85rfk9bXD9J",
        "outputId": "747d996f-8c49-44ae-8001-3c7f1852c315"
      },
      "outputs": [
        {
          "name": "stdout",
          "output_type": "stream",
          "text": [
            "\n",
            "Enter 'a' to add a movie, 'l' to see your movies, 'f' to find a movie by title, or 'q' to quitq\n"
          ]
        }
      ],
      "source": [
        "MENU_PROMPT = \"\\nEnter 'a' to add a movie, 'l' to see your movies, 'f' to find a movie by title, or 'q' to quit\"\n",
        "movies = []\n",
        "\n",
        "def add_movie():\n",
        "    title = input(\"Enter the movie title: \")\n",
        "    director = input(\"Enter the movie director: \")\n",
        "    year = input(\"Enter the movie release year: \")\n",
        "    movies.append({\n",
        "        'title': title,\n",
        "        'director': director,\n",
        "        'year': year\n",
        "    })\n",
        "\n",
        "def list_movies():\n",
        "    for movie in movies:\n",
        "        print(f\"Title: {movie['title']}, Director: {movie['director']}, Year: {movie['year']}\")\n",
        "\n",
        "def find_movie():\n",
        "    search = input(\"Enter the movie title you're looking for: \")\n",
        "    for movie in movies:\n",
        "        if movie['title'] == search:\n",
        "            print(f\"Title: {movie['title']}, Director: {movie['director']}, Year: {movie['year']}\")\n",
        "            break\n",
        "    else:\n",
        "        print(\"Movie not found.\")\n",
        "\n",
        "def user_menu():\n",
        "    selection = input(MENU_PROMPT)\n",
        "    while selection != 'q':\n",
        "        if selection == \"a\":\n",
        "            add_movie()\n",
        "        elif selection == \"l\":\n",
        "            list_movies()\n",
        "        elif selection == \"f\":\n",
        "            find_movie()\n",
        "        else:\n",
        "            print('Unknown command. please try again.')\n",
        "        selection = input(MENU_PROMPT)\n",
        "\n",
        "user_menu()\n"
      ]
    }
  ]
}