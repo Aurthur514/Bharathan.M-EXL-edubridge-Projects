{
 "cells": [
  {
   "cell_type": "markdown",
   "id": "851cadb8",
   "metadata": {},
   "source": [
    "# INTRODUCTION\n",
    "The IPL match prediction. Based on some match stats, we’re predicting who is the winner of an IPL match. In this project we will find the winning team using machine learning and created the prediction model for the future matches."
   ]
  },
  {
   "cell_type": "markdown",
   "id": "2b26dd3e",
   "metadata": {},
   "source": [
    "# IPL Match Prediction"
   ]
  },
  {
   "cell_type": "code",
   "execution_count": 21,
   "id": "7480a742",
   "metadata": {},
   "outputs": [],
   "source": [
    "import pandas as pd\n",
    "import numpy as np\n",
    "import seaborn as sns\n",
    "sns.set_style(\"whitegrid\")\n",
    "import matplotlib.pyplot as plt\n",
    "import sklearn"
   ]
  },
  {
   "cell_type": "code",
   "execution_count": 22,
   "id": "8a44d526",
   "metadata": {},
   "outputs": [],
   "source": [
    "data = pd.read_csv(\"matches.csv\")"
   ]
  },
  {
   "cell_type": "markdown",
   "id": "18f53625",
   "metadata": {},
   "source": [
    "ANALYZING DATA ROWS"
   ]
  },
  {
   "cell_type": "code",
   "execution_count": 23,
   "id": "e109f30b",
   "metadata": {},
   "outputs": [
    {
     "data": {
      "text/html": [
       "<div>\n",
       "<style scoped>\n",
       "    .dataframe tbody tr th:only-of-type {\n",
       "        vertical-align: middle;\n",
       "    }\n",
       "\n",
       "    .dataframe tbody tr th {\n",
       "        vertical-align: top;\n",
       "    }\n",
       "\n",
       "    .dataframe thead th {\n",
       "        text-align: right;\n",
       "    }\n",
       "</style>\n",
       "<table border=\"1\" class=\"dataframe\">\n",
       "  <thead>\n",
       "    <tr style=\"text-align: right;\">\n",
       "      <th></th>\n",
       "      <th>id</th>\n",
       "      <th>Season</th>\n",
       "      <th>city</th>\n",
       "      <th>date</th>\n",
       "      <th>team1</th>\n",
       "      <th>team2</th>\n",
       "      <th>toss_winner</th>\n",
       "      <th>toss_decision</th>\n",
       "      <th>result</th>\n",
       "      <th>dl_applied</th>\n",
       "      <th>winner</th>\n",
       "      <th>win_by_runs</th>\n",
       "      <th>win_by_wickets</th>\n",
       "      <th>player_of_match</th>\n",
       "      <th>venue</th>\n",
       "      <th>umpire1</th>\n",
       "      <th>umpire2</th>\n",
       "      <th>umpire3</th>\n",
       "    </tr>\n",
       "  </thead>\n",
       "  <tbody>\n",
       "    <tr>\n",
       "      <th>0</th>\n",
       "      <td>1</td>\n",
       "      <td>IPL-2017</td>\n",
       "      <td>Hyderabad</td>\n",
       "      <td>05-04-2017</td>\n",
       "      <td>Sunrisers Hyderabad</td>\n",
       "      <td>Royal Challengers Bangalore</td>\n",
       "      <td>Royal Challengers Bangalore</td>\n",
       "      <td>field</td>\n",
       "      <td>normal</td>\n",
       "      <td>0</td>\n",
       "      <td>Sunrisers Hyderabad</td>\n",
       "      <td>35</td>\n",
       "      <td>0</td>\n",
       "      <td>Yuvraj Singh</td>\n",
       "      <td>Rajiv Gandhi International Stadium, Uppal</td>\n",
       "      <td>AY Dandekar</td>\n",
       "      <td>NJ Llong</td>\n",
       "      <td>NaN</td>\n",
       "    </tr>\n",
       "    <tr>\n",
       "      <th>1</th>\n",
       "      <td>2</td>\n",
       "      <td>IPL-2017</td>\n",
       "      <td>Pune</td>\n",
       "      <td>06-04-2017</td>\n",
       "      <td>Mumbai Indians</td>\n",
       "      <td>Rising Pune Supergiant</td>\n",
       "      <td>Rising Pune Supergiant</td>\n",
       "      <td>field</td>\n",
       "      <td>normal</td>\n",
       "      <td>0</td>\n",
       "      <td>Rising Pune Supergiant</td>\n",
       "      <td>0</td>\n",
       "      <td>7</td>\n",
       "      <td>SPD Smith</td>\n",
       "      <td>Maharashtra Cricket Association Stadium</td>\n",
       "      <td>A Nand Kishore</td>\n",
       "      <td>S Ravi</td>\n",
       "      <td>NaN</td>\n",
       "    </tr>\n",
       "    <tr>\n",
       "      <th>2</th>\n",
       "      <td>3</td>\n",
       "      <td>IPL-2017</td>\n",
       "      <td>Rajkot</td>\n",
       "      <td>07-04-2017</td>\n",
       "      <td>Gujarat Lions</td>\n",
       "      <td>Kolkata Knight Riders</td>\n",
       "      <td>Kolkata Knight Riders</td>\n",
       "      <td>field</td>\n",
       "      <td>normal</td>\n",
       "      <td>0</td>\n",
       "      <td>Kolkata Knight Riders</td>\n",
       "      <td>0</td>\n",
       "      <td>10</td>\n",
       "      <td>CA Lynn</td>\n",
       "      <td>Saurashtra Cricket Association Stadium</td>\n",
       "      <td>Nitin Menon</td>\n",
       "      <td>CK Nandan</td>\n",
       "      <td>NaN</td>\n",
       "    </tr>\n",
       "    <tr>\n",
       "      <th>3</th>\n",
       "      <td>4</td>\n",
       "      <td>IPL-2017</td>\n",
       "      <td>Indore</td>\n",
       "      <td>08-04-2017</td>\n",
       "      <td>Rising Pune Supergiant</td>\n",
       "      <td>Kings XI Punjab</td>\n",
       "      <td>Kings XI Punjab</td>\n",
       "      <td>field</td>\n",
       "      <td>normal</td>\n",
       "      <td>0</td>\n",
       "      <td>Kings XI Punjab</td>\n",
       "      <td>0</td>\n",
       "      <td>6</td>\n",
       "      <td>GJ Maxwell</td>\n",
       "      <td>Holkar Cricket Stadium</td>\n",
       "      <td>AK Chaudhary</td>\n",
       "      <td>C Shamshuddin</td>\n",
       "      <td>NaN</td>\n",
       "    </tr>\n",
       "    <tr>\n",
       "      <th>4</th>\n",
       "      <td>5</td>\n",
       "      <td>IPL-2017</td>\n",
       "      <td>Bangalore</td>\n",
       "      <td>08-04-2017</td>\n",
       "      <td>Royal Challengers Bangalore</td>\n",
       "      <td>Delhi Daredevils</td>\n",
       "      <td>Royal Challengers Bangalore</td>\n",
       "      <td>bat</td>\n",
       "      <td>normal</td>\n",
       "      <td>0</td>\n",
       "      <td>Royal Challengers Bangalore</td>\n",
       "      <td>15</td>\n",
       "      <td>0</td>\n",
       "      <td>KM Jadhav</td>\n",
       "      <td>M Chinnaswamy Stadium</td>\n",
       "      <td>NaN</td>\n",
       "      <td>NaN</td>\n",
       "      <td>NaN</td>\n",
       "    </tr>\n",
       "  </tbody>\n",
       "</table>\n",
       "</div>"
      ],
      "text/plain": [
       "   id    Season       city        date                        team1  \\\n",
       "0   1  IPL-2017  Hyderabad  05-04-2017          Sunrisers Hyderabad   \n",
       "1   2  IPL-2017       Pune  06-04-2017               Mumbai Indians   \n",
       "2   3  IPL-2017     Rajkot  07-04-2017                Gujarat Lions   \n",
       "3   4  IPL-2017     Indore  08-04-2017       Rising Pune Supergiant   \n",
       "4   5  IPL-2017  Bangalore  08-04-2017  Royal Challengers Bangalore   \n",
       "\n",
       "                         team2                  toss_winner toss_decision  \\\n",
       "0  Royal Challengers Bangalore  Royal Challengers Bangalore         field   \n",
       "1       Rising Pune Supergiant       Rising Pune Supergiant         field   \n",
       "2        Kolkata Knight Riders        Kolkata Knight Riders         field   \n",
       "3              Kings XI Punjab              Kings XI Punjab         field   \n",
       "4             Delhi Daredevils  Royal Challengers Bangalore           bat   \n",
       "\n",
       "   result  dl_applied                       winner  win_by_runs  \\\n",
       "0  normal           0          Sunrisers Hyderabad           35   \n",
       "1  normal           0       Rising Pune Supergiant            0   \n",
       "2  normal           0        Kolkata Knight Riders            0   \n",
       "3  normal           0              Kings XI Punjab            0   \n",
       "4  normal           0  Royal Challengers Bangalore           15   \n",
       "\n",
       "   win_by_wickets player_of_match                                      venue  \\\n",
       "0               0    Yuvraj Singh  Rajiv Gandhi International Stadium, Uppal   \n",
       "1               7       SPD Smith    Maharashtra Cricket Association Stadium   \n",
       "2              10         CA Lynn     Saurashtra Cricket Association Stadium   \n",
       "3               6      GJ Maxwell                     Holkar Cricket Stadium   \n",
       "4               0       KM Jadhav                      M Chinnaswamy Stadium   \n",
       "\n",
       "          umpire1        umpire2 umpire3  \n",
       "0     AY Dandekar       NJ Llong     NaN  \n",
       "1  A Nand Kishore         S Ravi     NaN  \n",
       "2     Nitin Menon      CK Nandan     NaN  \n",
       "3    AK Chaudhary  C Shamshuddin     NaN  \n",
       "4             NaN            NaN     NaN  "
      ]
     },
     "execution_count": 23,
     "metadata": {},
     "output_type": "execute_result"
    }
   ],
   "source": [
    "data.head()"
   ]
  },
  {
   "cell_type": "markdown",
   "id": "a45f97a1",
   "metadata": {},
   "source": [
    "SUMMARY OF IPL DATA SET"
   ]
  },
  {
   "cell_type": "code",
   "execution_count": 24,
   "id": "6859e6b8",
   "metadata": {},
   "outputs": [
    {
     "data": {
      "text/html": [
       "<div>\n",
       "<style scoped>\n",
       "    .dataframe tbody tr th:only-of-type {\n",
       "        vertical-align: middle;\n",
       "    }\n",
       "\n",
       "    .dataframe tbody tr th {\n",
       "        vertical-align: top;\n",
       "    }\n",
       "\n",
       "    .dataframe thead th {\n",
       "        text-align: right;\n",
       "    }\n",
       "</style>\n",
       "<table border=\"1\" class=\"dataframe\">\n",
       "  <thead>\n",
       "    <tr style=\"text-align: right;\">\n",
       "      <th></th>\n",
       "      <th>id</th>\n",
       "      <th>dl_applied</th>\n",
       "      <th>win_by_runs</th>\n",
       "      <th>win_by_wickets</th>\n",
       "    </tr>\n",
       "  </thead>\n",
       "  <tbody>\n",
       "    <tr>\n",
       "      <th>count</th>\n",
       "      <td>756.000000</td>\n",
       "      <td>756.000000</td>\n",
       "      <td>756.000000</td>\n",
       "      <td>756.000000</td>\n",
       "    </tr>\n",
       "    <tr>\n",
       "      <th>mean</th>\n",
       "      <td>1792.178571</td>\n",
       "      <td>0.025132</td>\n",
       "      <td>13.283069</td>\n",
       "      <td>3.350529</td>\n",
       "    </tr>\n",
       "    <tr>\n",
       "      <th>std</th>\n",
       "      <td>3464.478148</td>\n",
       "      <td>0.156630</td>\n",
       "      <td>23.471144</td>\n",
       "      <td>3.387963</td>\n",
       "    </tr>\n",
       "    <tr>\n",
       "      <th>min</th>\n",
       "      <td>1.000000</td>\n",
       "      <td>0.000000</td>\n",
       "      <td>0.000000</td>\n",
       "      <td>0.000000</td>\n",
       "    </tr>\n",
       "    <tr>\n",
       "      <th>25%</th>\n",
       "      <td>189.750000</td>\n",
       "      <td>0.000000</td>\n",
       "      <td>0.000000</td>\n",
       "      <td>0.000000</td>\n",
       "    </tr>\n",
       "    <tr>\n",
       "      <th>50%</th>\n",
       "      <td>378.500000</td>\n",
       "      <td>0.000000</td>\n",
       "      <td>0.000000</td>\n",
       "      <td>4.000000</td>\n",
       "    </tr>\n",
       "    <tr>\n",
       "      <th>75%</th>\n",
       "      <td>567.250000</td>\n",
       "      <td>0.000000</td>\n",
       "      <td>19.000000</td>\n",
       "      <td>6.000000</td>\n",
       "    </tr>\n",
       "    <tr>\n",
       "      <th>max</th>\n",
       "      <td>11415.000000</td>\n",
       "      <td>1.000000</td>\n",
       "      <td>146.000000</td>\n",
       "      <td>10.000000</td>\n",
       "    </tr>\n",
       "  </tbody>\n",
       "</table>\n",
       "</div>"
      ],
      "text/plain": [
       "                 id  dl_applied  win_by_runs  win_by_wickets\n",
       "count    756.000000  756.000000   756.000000      756.000000\n",
       "mean    1792.178571    0.025132    13.283069        3.350529\n",
       "std     3464.478148    0.156630    23.471144        3.387963\n",
       "min        1.000000    0.000000     0.000000        0.000000\n",
       "25%      189.750000    0.000000     0.000000        0.000000\n",
       "50%      378.500000    0.000000     0.000000        4.000000\n",
       "75%      567.250000    0.000000    19.000000        6.000000\n",
       "max    11415.000000    1.000000   146.000000       10.000000"
      ]
     },
     "execution_count": 24,
     "metadata": {},
     "output_type": "execute_result"
    }
   ],
   "source": [
    "data.describe()"
   ]
  },
  {
   "cell_type": "code",
   "execution_count": 25,
   "id": "8317a66f",
   "metadata": {},
   "outputs": [
    {
     "data": {
      "text/plain": [
       "id                   0\n",
       "Season               0\n",
       "city                 7\n",
       "date                 0\n",
       "team1                0\n",
       "team2                0\n",
       "toss_winner          0\n",
       "toss_decision        0\n",
       "result               0\n",
       "dl_applied           0\n",
       "winner               4\n",
       "win_by_runs          0\n",
       "win_by_wickets       0\n",
       "player_of_match      4\n",
       "venue                0\n",
       "umpire1              2\n",
       "umpire2              2\n",
       "umpire3            637\n",
       "dtype: int64"
      ]
     },
     "execution_count": 25,
     "metadata": {},
     "output_type": "execute_result"
    }
   ],
   "source": [
    "data.isnull().sum()"
   ]
  },
  {
   "cell_type": "markdown",
   "id": "f7fe8101",
   "metadata": {},
   "source": [
    "REMOVING NULL VALUES"
   ]
  },
  {
   "cell_type": "code",
   "execution_count": 26,
   "id": "92a555d7",
   "metadata": {},
   "outputs": [],
   "source": [
    "data = data.iloc[:,:-1]\n",
    "data.dropna(inplace=True)"
   ]
  },
  {
   "cell_type": "code",
   "execution_count": 27,
   "id": "f525a921",
   "metadata": {},
   "outputs": [
    {
     "data": {
      "text/plain": [
       "array(['Sunrisers Hyderabad', 'Mumbai Indians', 'Gujarat Lions',\n",
       "       'Rising Pune Supergiant', 'Kolkata Knight Riders',\n",
       "       'Royal Challengers Bangalore', 'Delhi Daredevils',\n",
       "       'Kings XI Punjab', 'Chennai Super Kings', 'Rajasthan Royals',\n",
       "       'Deccan Chargers', 'Kochi Tuskers Kerala', 'Pune Warriors',\n",
       "       'Rising Pune Supergiants', 'Delhi Capitals'], dtype=object)"
      ]
     },
     "execution_count": 27,
     "metadata": {},
     "output_type": "execute_result"
    }
   ],
   "source": [
    "data[\"team1\"].unique()"
   ]
  },
  {
   "cell_type": "markdown",
   "id": "785ab052",
   "metadata": {},
   "source": [
    "\n",
    "# Visualizations\n",
    "\n"
   ]
  },
  {
   "cell_type": "code",
   "execution_count": 28,
   "id": "4871b084",
   "metadata": {},
   "outputs": [
    {
     "data": {
      "text/plain": [
       "Text(0.5, 1.0, 'Number of  IPL  matches won by each team')"
      ]
     },
     "execution_count": 28,
     "metadata": {},
     "output_type": "execute_result"
    },
    {
     "data": {
      "image/png": "[encoded data removed]",
      "text/plain": [
       "<Figure size 720x432 with 1 Axes>"
      ]
     },
     "metadata": {},
     "output_type": "display_data"
    }
   ],
   "source": [
    "plt.figure(figsize = (10,6))\n",
    "sns.countplot(y = 'winner',data = data,order= data['winner'].value_counts().index)\n",
    "plt.xlabel('Wins')\n",
    "plt.ylabel('Team')\n",
    "plt.title('Number of  IPL  matches won by each team')# "
   ]
  },
  {
   "cell_type": "code",
   "execution_count": 29,
   "id": "650c9224",
   "metadata": {},
   "outputs": [
    {
     "data": {
      "text/plain": [
       "Text(0.5, 1.0, 'Toss Decision')"
      ]
     },
     "execution_count": 29,
     "metadata": {},
     "output_type": "execute_result"
    },
    {
     "data": {
      "image/png": "[encoded data removed]",
      "text/plain": [
       "<Figure size 720x432 with 1 Axes>"
      ]
     },
     "metadata": {},
     "output_type": "display_data"
    }
   ],
   "source": [
    "plt.figure(figsize = (10,6))\n",
    "sns.countplot(x = \"toss_decision\", data=data)\n",
    "plt.xlabel('Toss Decision',fontsize=12)\n",
    "plt.ylabel('Count',fontsize=12)\n",
    "plt.title('Toss Decision')"
   ]
  },
  {
   "cell_type": "markdown",
   "id": "18db3444",
   "metadata": {},
   "source": [
    "# UNIQUE VALUES"
   ]
  },
  {
   "cell_type": "code",
   "execution_count": 30,
   "id": "84d907c2",
   "metadata": {},
   "outputs": [
    {
     "name": "stdout",
     "output_type": "stream",
     "text": [
      "['Hyderabad' 'Pune' 'Rajkot' 'Indore' 'Mumbai' 'Kolkata' 'Bangalore'\n",
      " 'Delhi' 'Chandigarh' 'Kanpur' 'Jaipur' 'Chennai' 'Cape Town'\n",
      " 'Port Elizabeth' 'Durban' 'Centurion' 'East London' 'Johannesburg'\n",
      " 'Kimberley' 'Bloemfontein' 'Ahmedabad' 'Cuttack' 'Nagpur' 'Dharamsala'\n",
      " 'Kochi' 'Visakhapatnam' 'Raipur' 'Ranchi' 'Abu Dhabi' 'Sharjah' 'Mohali'\n",
      " 'Bengaluru']\n",
      "Mumbai            101\n",
      "Kolkata            77\n",
      "Delhi              73\n",
      "Hyderabad          64\n",
      "Bangalore          63\n",
      "Chennai            57\n",
      "Jaipur             47\n",
      "Chandigarh         46\n",
      "Pune               38\n",
      "Durban             15\n",
      "Bengaluru          13\n",
      "Centurion          12\n",
      "Ahmedabad          12\n",
      "Visakhapatnam      12\n",
      "Rajkot             10\n",
      "Mohali             10\n",
      "Indore              9\n",
      "Dharamsala          9\n",
      "Johannesburg        8\n",
      "Cuttack             7\n",
      "Ranchi              7\n",
      "Port Elizabeth      7\n",
      "Cape Town           7\n",
      "Abu Dhabi           7\n",
      "Sharjah             6\n",
      "Raipur              6\n",
      "Kochi               5\n",
      "Kanpur              4\n",
      "Nagpur              3\n",
      "Kimberley           3\n",
      "East London         3\n",
      "Bloemfontein        2\n",
      "Name: city, dtype: int64\n",
      "['field' 'bat']\n",
      "field    455\n",
      "bat      288\n",
      "Name: toss_decision, dtype: int64\n",
      "['normal' 'tie']\n",
      "normal    734\n",
      "tie         9\n",
      "Name: result, dtype: int64\n",
      "[0 1]\n",
      "0    724\n",
      "1     19\n",
      "Name: dl_applied, dtype: int64\n"
     ]
    }
   ],
   "source": [
    "x= [\"city\", \"toss_decision\", \"result\", \"dl_applied\"]\n",
    "for i in x:\n",
    "  print(data[i].unique())\n",
    "  print(data[i].value_counts())"
   ]
  },
  {
   "cell_type": "code",
   "execution_count": 31,
   "id": "28373a30",
   "metadata": {},
   "outputs": [],
   "source": [
    "x= data.drop([\"winner\"], axis=1)\n",
    "y = data[\"winner\"]"
   ]
  },
  {
   "cell_type": "code",
   "execution_count": 32,
   "id": "c471f3a2",
   "metadata": {},
   "outputs": [],
   "source": [
    "data.drop([\"id\", \"Season\",\"city\",\"date\", \"player_of_match\", 'umpire1', \"venue\", \"umpire2\"], axis=1, inplace=True)"
   ]
  },
  {
   "cell_type": "code",
   "execution_count": 33,
   "id": "c9827fd8",
   "metadata": {},
   "outputs": [],
   "source": [
    "x = data.drop([\"winner\"], axis=1)\n",
    "y = data[\"winner\"]"
   ]
  },
  {
   "cell_type": "code",
   "execution_count": 34,
   "id": "d3d4eb0e",
   "metadata": {},
   "outputs": [],
   "source": [
    "x= pd.get_dummies(x, [\"team1\",\"team2\", \"toss_winner\", \"toss_decision\", \"result\"], drop_first = True)"
   ]
  },
  {
   "cell_type": "code",
   "execution_count": 35,
   "id": "14edde4e",
   "metadata": {},
   "outputs": [],
   "source": [
    "from sklearn.preprocessing import LabelEncoder\n",
    "le = LabelEncoder()\n",
    "y = le.fit_transform(y)"
   ]
  },
  {
   "cell_type": "code",
   "execution_count": 36,
   "id": "b501e1cb",
   "metadata": {},
   "outputs": [],
   "source": [
    "from sklearn.model_selection import train_test_split\n",
    "x_train, x_test, y_train, y_test = train_test_split(x, y, train_size = 0.8)"
   ]
  },
  {
   "cell_type": "markdown",
   "id": "81a4b37a",
   "metadata": {},
   "source": [
    "# MODEL CREATION AND EVALUATION"
   ]
  },
  {
   "cell_type": "code",
   "execution_count": 37,
   "id": "2b59f5d9",
   "metadata": {},
   "outputs": [],
   "source": [
    "from sklearn.ensemble import RandomForestClassifier\n",
    "model = RandomForestClassifier(n_estimators=200,min_samples_split=3,max_features = \"auto\")"
   ]
  },
  {
   "cell_type": "code",
   "execution_count": 38,
   "id": "7886e9ce",
   "metadata": {},
   "outputs": [
    {
     "data": {
      "text/plain": [
       "RandomForestClassifier(min_samples_split=3, n_estimators=200)"
      ]
     },
     "execution_count": 38,
     "metadata": {},
     "output_type": "execute_result"
    }
   ],
   "source": [
    "model.fit(x_train, y_train)"
   ]
  },
  {
   "cell_type": "code",
   "execution_count": 39,
   "id": "06ef2edc",
   "metadata": {},
   "outputs": [],
   "source": [
    "y_pred = model.predict(x_test)"
   ]
  },
  {
   "cell_type": "code",
   "execution_count": 40,
   "id": "fecb9bb2",
   "metadata": {},
   "outputs": [
    {
     "name": "stdout",
     "output_type": "stream",
     "text": [
      "0.8993288590604027\n"
     ]
    }
   ],
   "source": [
    "import csv\n",
    "from sklearn.metrics import accuracy_score\n",
    "ac = accuracy_score(y_pred, y_test)\n",
    "print(ac)\n",
    "final=pd.DataFrame(y_pred)\n",
    "final.to_csv('http://localhost:8888/tree/ed%20project/final.csv')\n"
   ]
  },
  {
   "cell_type": "markdown",
   "id": "175727e5",
   "metadata": {},
   "source": [
    "# SAVING THE FILE AS PICKLE FOR DEPLOYMENT"
   ]
  },
  {
   "cell_type": "code",
   "execution_count": 44,
   "id": "d75d21f7",
   "metadata": {},
   "outputs": [],
   "source": [
    "import pickle as pk\n",
    "with open(\"data.pkl\", \"wb\") as f:\n",
    "    pk.dump(final,f)"
   ]
  },
  {
   "cell_type": "code",
   "execution_count": 42,
   "id": "b18e819b",
   "metadata": {},
   "outputs": [
    {
     "data": {
      "text/plain": [
       "<bound method DataFrame.info of                       team1                        team2  \\\n",
       "0       Sunrisers Hyderabad  Royal Challengers Bangalore   \n",
       "1            Mumbai Indians       Rising Pune Supergiant   \n",
       "2             Gujarat Lions        Kolkata Knight Riders   \n",
       "3    Rising Pune Supergiant              Kings XI Punjab   \n",
       "5             Gujarat Lions          Sunrisers Hyderabad   \n",
       "..                      ...                          ...   \n",
       "750     Chennai Super Kings              Kings XI Punjab   \n",
       "751   Kolkata Knight Riders               Mumbai Indians   \n",
       "752     Chennai Super Kings               Mumbai Indians   \n",
       "754          Delhi Capitals          Chennai Super Kings   \n",
       "755          Mumbai Indians          Chennai Super Kings   \n",
       "\n",
       "                     toss_winner toss_decision  result  dl_applied  \\\n",
       "0    Royal Challengers Bangalore         field  normal           0   \n",
       "1         Rising Pune Supergiant         field  normal           0   \n",
       "2          Kolkata Knight Riders         field  normal           0   \n",
       "3                Kings XI Punjab         field  normal           0   \n",
       "5            Sunrisers Hyderabad         field  normal           0   \n",
       "..                           ...           ...     ...         ...   \n",
       "750              Kings XI Punjab         field  normal           0   \n",
       "751               Mumbai Indians         field  normal           0   \n",
       "752          Chennai Super Kings           bat  normal           0   \n",
       "754          Chennai Super Kings         field  normal           0   \n",
       "755               Mumbai Indians           bat  normal           0   \n",
       "\n",
       "                     winner  win_by_runs  win_by_wickets  \n",
       "0       Sunrisers Hyderabad           35               0  \n",
       "1    Rising Pune Supergiant            0               7  \n",
       "2     Kolkata Knight Riders            0              10  \n",
       "3           Kings XI Punjab            0               6  \n",
       "5       Sunrisers Hyderabad            0               9  \n",
       "..                      ...          ...             ...  \n",
       "750         Kings XI Punjab            0               6  \n",
       "751          Mumbai Indians            0               9  \n",
       "752          Mumbai Indians            0               6  \n",
       "754     Chennai Super Kings            0               6  \n",
       "755          Mumbai Indians            1               0  \n",
       "\n",
       "[743 rows x 9 columns]>"
      ]
     },
     "execution_count": 42,
     "metadata": {},
     "output_type": "execute_result"
    }
   ],
   "source": [
    "data.info"
   ]
  },
  {
   "cell_type": "code",
   "execution_count": 43,
   "id": "f1bcc9c0",
   "metadata": {},
   "outputs": [
    {
     "name": "stdout",
     "output_type": "stream",
     "text": [
      "Requirement already satisfied: flask in c:\\programdata\\anaconda3\\lib\\site-packages (1.1.2)\n",
      "Requirement already satisfied: itsdangerous>=0.24 in c:\\programdata\\anaconda3\\lib\\site-packages (from flask) (2.0.1)\n",
      "Requirement already satisfied: Jinja2>=2.10.1 in c:\\programdata\\anaconda3\\lib\\site-packages (from flask) (2.11.3)\n",
      "Requirement already satisfied: click>=5.1 in c:\\programdata\\anaconda3\\lib\\site-packages (from flask) (8.0.3)\n",
      "Requirement already satisfied: Werkzeug>=0.15 in c:\\programdata\\anaconda3\\lib\\site-packages (from flask) (2.0.2)\n",
      "Requirement already satisfied: colorama in c:\\programdata\\anaconda3\\lib\\site-packages (from click>=5.1->flask) (0.4.4)\n",
      "Requirement already satisfied: MarkupSafe>=0.23 in c:\\programdata\\anaconda3\\lib\\site-packages (from Jinja2>=2.10.1->flask) (1.1.1)\n",
      "Note: you may need to restart the kernel to use updated packages.\n"
     ]
    }
   ],
   "source": [
    "\n"
   ]
  },
  {
   "cell_type": "code",
   "execution_count": 38,
   "id": "d7397bbe",
   "metadata": {},
   "outputs": [
    {
     "name": "stdout",
     "output_type": "stream",
     "text": [
      " * Serving Flask app \"__main__\" (lazy loading)\n",
      " * Environment: production\n",
      "\u001b[31m   WARNING: This is a development server. Do not use it in a production deployment.\u001b[0m\n",
      "\u001b[2m   Use a production WSGI server instead.\u001b[0m\n",
      " * Debug mode: on\n"
     ]
    },
    {
     "name": "stderr",
     "output_type": "stream",
     "text": [
      " * Restarting with watchdog (windowsapi)\n"
     ]
    },
    {
     "ename": "SystemExit",
     "evalue": "1",
     "output_type": "error",
     "traceback": [
      "An exception has occurred, use %tb to see the full traceback.\n",
      "\u001b[1;31mSystemExit\u001b[0m\u001b[1;31m:\u001b[0m 1\n"
     ]
    },
    {
     "name": "stderr",
     "output_type": "stream",
     "text": [
      "C:\\ProgramData\\Anaconda3\\lib\\site-packages\\IPython\\core\\interactiveshell.py:3452: UserWarning: To exit: use 'exit', 'quit', or Ctrl-D.\n",
      "  warn(\"To exit: use 'exit', 'quit', or Ctrl-D.\", stacklevel=1)\n"
     ]
    }
   ],
   "source": []
  },
  {
   "cell_type": "code",
   "execution_count": null,
   "id": "e56c9542",
   "metadata": {},
   "outputs": [],
   "source": []
  }
 ],
 "metadata": {
  "kernelspec": {
   "display_name": "Python 3 (ipykernel)",
   "language": "python",
   "name": "python3"
  },
  "language_info": {
   "codemirror_mode": {
    "name": "ipython",
    "version": 3
   },
   "file_extension": ".py",
   "mimetype": "text/x-python",
   "name": "python",
   "nbconvert_exporter": "python",
   "pygments_lexer": "ipython3",
   "version": "3.9.7"
  }
 },
 "nbformat": 4,
 "nbformat_minor": 5
}
